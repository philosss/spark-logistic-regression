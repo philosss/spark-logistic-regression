{
 "cells": [
  {
   "cell_type": "markdown",
   "metadata": {},
   "source": [
    "# Logistic regression"
   ]
  },
  {
   "cell_type": "markdown",
   "metadata": {},
   "source": [
    "Filippo Calzavara\n",
    "\n",
    "Nicolae Righeriu"
   ]
  },
  {
   "cell_type": "markdown",
   "metadata": {},
   "source": [
    "## Imports"
   ]
  },
  {
   "cell_type": "code",
   "execution_count": null,
   "metadata": {},
   "outputs": [],
   "source": [
    "import math\n",
    "import random\n",
    "import pyspark\n",
    "from itertools import chain\n",
    "import datetime\n",
    "import os\n",
    "import time\n",
    "from IPython.core.display import display, HTML\n",
    "display(HTML(\"<style>.container { width:100% !important; }</style>\"))\n",
    "\n",
    "global k_fold\n",
    "global n_row\n",
    "global y_h_m_y\n",
    "global n_columns\n",
    "global w\n",
    "global OUTPUT\n",
    "global ITERATIONS\n",
    "global THRESHOLD\n",
    "global averages\n",
    "global col_sums\n",
    "global sigmas\n",
    "global b\n",
    "\n",
    "DEBUG = True\n",
    "TRAIN_TEST = 0.8\n",
    "k_fold=6\n",
    "ITERATIONS=50\n",
    "THRESHOLD = 0.5\n",
    "MACHINE_EPSILON = 2.220446049250313e-16\n",
    "\n",
    "DATASET=\"dataset/spam.data\"\n",
    "n_columns=56 #total number of columns (58) - the one deleted (57) - label (56)\n",
    "\n",
    "OUTPUT=\"out/\"\n",
    "sc = pyspark.SparkContext.getOrCreate()\n"
   ]
  },
  {
   "cell_type": "markdown",
   "metadata": {},
   "source": [
    "## Initialization"
   ]
  },
  {
   "cell_type": "code",
   "execution_count": null,
   "metadata": {},
   "outputs": [],
   "source": [
    "def initializeAccumulators():\n",
    "    global averages\n",
    "    global col_sums\n",
    "    global sigmas\n",
    "    i=0\n",
    "    averages=[]\n",
    "    col_sums=[]\n",
    "    sigmas=[]\n",
    "    while(i<n_columns):\n",
    "        averages.append(sc.accumulator(0))\n",
    "        col_sums.append(sc.accumulator(0))\n",
    "        sigmas.append(sc.accumulator(0)) \n",
    "        i+=1\n",
    "\n",
    "def initializeWeights(random_init=False):\n",
    "    if(random_init):\n",
    "        #return sc.parallelize([(i, random.random()) for i in range(0,n_columns)])\n",
    "        return [random.random() for i in range(0,n_columns)]\n",
    "    else:\n",
    "        #return sc.parallelize([(i, 0.0) for i in range(0,n_columns)])\n",
    "        return [0.0 for i in range(0,n_columns)]\n",
    "\n",
    "def initializeBias():\n",
    "    return sc.parallelize(0.0)\n"
   ]
  },
  {
   "cell_type": "markdown",
   "metadata": {},
   "source": [
    "## Preprocessing"
   ]
  },
  {
   "cell_type": "markdown",
   "metadata": {},
   "source": [
    "### Metrics calculation for normalization"
   ]
  },
  {
   "cell_type": "code",
   "execution_count": null,
   "metadata": {},
   "outputs": [],
   "source": [
    "def addToAccumulators(row):\n",
    "    if(len(row)!=len(col_sums)):\n",
    "        raise Exception(\"Number of columns in the row doesn't mach the number of accumulators initiated. Len row: \"+str(len(row))+\" n_accomulators: \"+str(len(col_sums)))\n",
    "    i=0\n",
    "    while(i<n_columns):\n",
    "        col_sums[i].add(row[i])\n",
    "        i+=1\n",
    "\n",
    "def calcAvg(n_row):\n",
    "    global averages\n",
    "    i=0\n",
    "    while(i<n_columns):\n",
    "        averages[i]=col_sums[i].value/n_row\n",
    "        i+=1\n",
    "\n",
    "def calcResiduals(row):\n",
    "    global sigmas\n",
    "    i=0\n",
    "    while(i<n_columns):       \n",
    "        sigmas[i].add(math.pow(row[2][i]-averages[i],2))\n",
    "        i+=1\n",
    "    return row\n",
    "\n",
    "def calcSigmas(n_row):\n",
    "    global sigmas\n",
    "    i=0\n",
    "    while(i<n_columns):\n",
    "        sigmas[i]=math.sqrt(sigmas[i].value/float(n_row-1))\n",
    "        i+=1"
   ]
  },
  {
   "cell_type": "code",
   "execution_count": null,
   "metadata": {},
   "outputs": [],
   "source": [
    "def normalize(row):\n",
    "    i=0\n",
    "    while(i<n_columns):\n",
    "        row[2][i]=(row[2][i]-averages[i])/sigmas[i]\n",
    "        i+=1\n",
    "    return row"
   ]
  },
  {
   "cell_type": "markdown",
   "metadata": {},
   "source": [
    "### Preprocessing"
   ]
  },
  {
   "cell_type": "code",
   "execution_count": null,
   "metadata": {},
   "outputs": [],
   "source": [
    "def preprocessing(row):\n",
    "    split=row.split(\" \")       #splitting\n",
    "    label = int(split[57])\n",
    "    del split[57] #label\n",
    "    del split[56] #col 57th\n",
    "    split=[float(col) for col in split]\n",
    "    addToAccumulators(split)\n",
    "    #assign random key to the datapoint\n",
    "    key=random.getrandbits(64)\n",
    "    #assign train/test \n",
    "    if(random.random()<TRAIN_TEST):\n",
    "        train=1\n",
    "    else:\n",
    "        train=0    \n",
    "    return (key,train,split,label)"
   ]
  },
  {
   "cell_type": "markdown",
   "metadata": {},
   "source": [
    "### Split"
   ]
  },
  {
   "cell_type": "code",
   "execution_count": null,
   "metadata": {},
   "outputs": [],
   "source": [
    "def trainTestSplit(dataset):\n",
    "    dataset=dataset.map(normalize)\n",
    "    train=dataset.filter(lambda x: x[1]==1)\n",
    "    test=dataset.filter(lambda x: x[1]==0)\n",
    "    return train, test"
   ]
  },
  {
   "cell_type": "markdown",
   "metadata": {},
   "source": [
    "## Prediction functions and cost"
   ]
  },
  {
   "cell_type": "code",
   "execution_count": null,
   "metadata": {},
   "outputs": [],
   "source": [
    "def sigmoid(z):\n",
    "    return 1/(1+math.exp(-z))\n",
    "\n",
    "def predict(w,b,X):\n",
    "    sig=sigmoid(sum([X[i]*w[i] for i in range(len(w))])+b)\n",
    "    return sig\n",
    "\n",
    "def classify_prediction(pred_probability):\n",
    "    if (pred_probability >= THRESHOLD):\n",
    "        return 1\n",
    "    return 0\n",
    "\n",
    "def predict_parallel(w,b,X):\n",
    "    #Change X representation\n",
    "    X = sc.parallelize(X).zipWithIndex().map(lambda x: (x[1],x[0]))\n",
    "    wX_plus_b=X.join(w).map(lambda x: (x[1][0]*x[1][1])+b).sum()\n",
    "    return sigmoid(wX_plus_b)\n",
    "    \n",
    "def compute_cost(dataset,w,b,lambda_reg, print_stats=False):\n",
    "    cost=0                                                          #need to add epsilon, otherwise math.log will throw domain error for some values\n",
    "    cost = (-1/dataset.count())*dataset.map(lambda x: x[3]\\\n",
    "                                            *math.log(predict(w,b,x[2]) + MACHINE_EPSILON)+(1-x[3])\\\n",
    "                                            *math.log(1-predict(w,b,x[2]) + MACHINE_EPSILON)).sum()+lambda_reg/(2*dataset.count())*sum([i*i for i in w])\n",
    "    \n",
    "    if (print_stats):\n",
    "        printMetrics(dataset,w,b)\n",
    "    return cost\n",
    "    \n",
    "def printMetrics(dataset,w,b):\n",
    "    stats = {\"TP\":0, \"TN\":0, \"FP\":0, \"FN\":0}\n",
    "    statsMapping = dataset.map(lambda x: int(str(classify_prediction(predict(w, b, x[2]))) + str(x[3])))    #output will be 0 or 1 or 10 or 11 \n",
    "    stats[\"TN\"] = statsMapping.filter(lambda x: x == 0).count()\n",
    "    stats[\"FN\"] = statsMapping.filter(lambda x: x == 1).count()\n",
    "    stats[\"FP\"] = statsMapping.filter(lambda x: x == 10).count()\n",
    "    stats[\"TP\"] = statsMapping.filter(lambda x: x == 11).count()\n",
    "    sumStats = 0\n",
    "    for i in stats:\n",
    "        sumStats += stats[i]\n",
    "    print(\"sumStats: \" + str(sumStats))\n",
    "    precision = stats[\"TP\"] / (stats[\"TP\"] + stats[\"FP\"])\n",
    "    recall = stats[\"TP\"]/(stats[\"TP\"] + stats[\"FN\"])\n",
    "    accuracy = (stats[\"TP\"] + stats[\"TN\"])/(stats[\"TP\"] + stats[\"TN\"] + stats[\"FP\"] + stats[\"FN\"])\n",
    "    labelSum = dataset.filter(lambda x: x[3] == 1).count()\n",
    "    print(\"Label1 from test:\" + str(labelSum))\n",
    "    print(\"Precision: \" + str(precision))\n",
    "    print(\"Recall: \" + str(recall))\n",
    "    print(\"F1 score: \" + str(2*(precision*recall)/(precision + recall)))\n",
    "    print(\"Accuracy: \" + str(accuracy)) \n",
    "    print(\"TN: \"+str(stats[\"TN\"])+\", FN: \"+str(stats[\"FN\"])+\", FP: \",str(stats[\"FP\"])+\", TP:\"+str(stats[\"TP\"]))\n",
    "    "
   ]
  },
  {
   "cell_type": "markdown",
   "metadata": {},
   "source": [
    "## Gradient Descent"
   ]
  },
  {
   "cell_type": "code",
   "execution_count": null,
   "metadata": {},
   "outputs": [],
   "source": [
    "def gradientDescent(iterations,train,w,number_samples,lambda_reg,learning_rate,b,logCosts=False):\n",
    "    if(logCosts):\n",
    "        gd_cost_log = open(OUTPUT+\"gradient_descent.csv\",\"w+\")\n",
    "        gd_cost_log.write(\"iteration,cost\\r\\n\")\n",
    "        gd_cost_log.close()\n",
    "    costs=[]\n",
    "    for iteration in range(iterations):\n",
    "        w,b = gradientDescentIteration(train,w,number_samples,lambda_reg,learning_rate,b)\n",
    "        cost=compute_cost(train,w,b,lambda_reg)\n",
    "        costs.append(cost)\n",
    "        if(logCosts):\n",
    "            gd_cost_log = open(OUTPUT+\"gradient_descent.csv\",\"a+\")            \n",
    "            gd_cost_log.write(str(iteration+1)+\",\"+str(cost)+\"\\r\\n\")\n",
    "            gd_cost_log.close()\n",
    "        print(\"-> Iteration done: \"+str(iteration+1)+\" of \"+str(iterations)+\". Cost: \"+str(cost))\n",
    "    return w,b,costs\n",
    "    \n",
    "def gradientDescentIteration(train,w,number_samples,lambda_reg,learning_rate,b):\n",
    "    dw=[0 for i in range(0,n_columns)]\n",
    "    j = 0\n",
    "    w_temp = w.copy()\n",
    "    for j in range(n_columns):\n",
    "        #print(\"Lambda: \" + str(lambda_reg))\n",
    "        X_j=train.map(lambda x: (predict(w,b,x[2])-x[3])*x[2][j]).sum()\n",
    "        dw[j]=(1/number_samples)*X_j+(lambda_reg/number_samples)+w[j]\n",
    "        w_temp[j]-=learning_rate*dw[j]\n",
    "    b-=learning_rate*(1/number_samples)*train.map(lambda x: predict(w,b,x[2])-x[3]).sum()\n",
    "    w = w_temp\n",
    "    return w_temp,b"
   ]
  },
  {
   "cell_type": "markdown",
   "metadata": {},
   "source": [
    "## K-Fold Cross Validation"
   ]
  },
  {
   "cell_type": "code",
   "execution_count": null,
   "metadata": {},
   "outputs": [],
   "source": [
    "def make_folds(x):\n",
    "    return (x[0],int(random.random()*10-1),x[1],x[2])\n",
    "\n",
    "def kFoldsCV(k_fold,iterations,train,lambda_reg,learning_rate):\n",
    "    fold_length=train.count()/k_fold\n",
    "    train_errors_fold=[]\n",
    "    test_errors_fold = []\n",
    "    for i_fold in range(k_fold):\n",
    "        w=initializeWeights(random_init=True)\n",
    "        b=0\n",
    "        starting_fold=fold_length*i_fold\n",
    "        end_fold=starting_fold+fold_length\n",
    "        test_fold=train.zipWithIndex().filter(lambda t: (t[1]>=starting_fold and t[1]<end_fold)).map(lambda t: t[0]) #the map get rid of the index again\n",
    "        train_fold=train.zipWithIndex().filter(lambda t: t[1]<starting_fold or t[1]>=end_fold).map(lambda t: t[0])\n",
    "        train_fold_size=train_fold.count()\n",
    "        \n",
    "        #Gradient descent\n",
    "        w, b, train_errors = gradientDescent(iterations,train_fold,w,train_fold_size,lambda_reg,learning_rate,b)\n",
    "        train_errors_fold.append(train_errors)\n",
    "        train_errors_flattened =list(chain.from_iterable(train_errors_fold))\n",
    "        test_error = compute_cost(test_fold, w, b, lambda_reg)\n",
    "        test_errors_fold.append(test_error)\n",
    "        if(DEBUG):\n",
    "            print(\"--> Fold #\"+str(i_fold+1)+\" of \"+str(k_fold)+\" is done. Train error: \" \\\n",
    "                  +str(sum(train_errors_flattened)/((i_fold + 1) * iterations)) \\\n",
    "                  + \" Test error: \" + str(sum(test_errors_fold)/(i_fold+ 1)))\n",
    "    return w,b,train_errors_fold, test_errors_fold"
   ]
  },
  {
   "cell_type": "markdown",
   "metadata": {},
   "source": [
    "## Train"
   ]
  },
  {
   "cell_type": "code",
   "execution_count": null,
   "metadata": {},
   "outputs": [],
   "source": [
    "def train(filename, iterations, learning_rate, lambda_reg, cv=False):\n",
    "    global w\n",
    "    global b\n",
    "    w = []\n",
    "    initializeAccumulators()\n",
    "    w = initializeWeights()\n",
    "    dataset=sc.textFile(filename).map(preprocessing)\n",
    "    n_row=dataset.count()\n",
    "    calcAvg(n_row)\n",
    "    gg = dataset.map(calcResiduals).collect()\n",
    "    dataset=dataset.collect()\n",
    "    calcSigmas(n_row)\n",
    "    dataset=sc.parallelize(dataset).sortBy(lambda x: x[0])\n",
    "    n_row=dataset.count()\n",
    "    train, test = trainTestSplit(dataset)\n",
    "    \n",
    "    print(\"Split train/test done. Train contains \"+str(train.count())+\" elements, Test contains \"+str(test.count())+\" elements\")\n",
    "    \n",
    "    if (cv):\n",
    "        w, b, train_errors_fold, test_errors_fold = kFoldsCV(k_fold,iterations,train,lambda_reg,learning_rate)\n",
    "        train_errors_fold =list(chain.from_iterable(train_errors_fold))\n",
    "        average_train_error = sum(train_errors_fold)/(iterations*k_fold)\n",
    "        average_test_error = sum(test_errors_fold)/k_fold\n",
    "        print(\"---> \"+str(k_fold)+\"-fold validation done.  Train error: \" \\\n",
    "            +str(average_train_error) \\\n",
    "            + \" Test error: \" + str((average_test_error)))\n",
    "        return average_train_error, average_test_error\n",
    "    else:                                                  #Testing the parameters and weights on the actual test set\n",
    "        w,b, train_errors = gradientDescent(iterations, train, w, train.count(), lambda_reg, learning_rate, b,True)\n",
    "        wBest = open(OUTPUT+\"w_bestModel.csv\",\"w+\")\n",
    "        wBest.write(str(w))\n",
    "        wBest.close()\n",
    "        average_train_error = sum(train_errors)/iterations\n",
    "        average_test_error = compute_cost(test, w, b, lambda_reg, True)\n",
    "        print(\"---> Model done. Train error: \" \\\n",
    "              +str(average_train_error) \\\n",
    "              + \" Test error: \" + str((average_test_error)))\n",
    "        return average_train_error, average_test_error"
   ]
  },
  {
   "cell_type": "markdown",
   "metadata": {},
   "source": [
    "## Main"
   ]
  },
  {
   "cell_type": "markdown",
   "metadata": {},
   "source": [
    "### Logging and variable initialization"
   ]
  },
  {
   "cell_type": "code",
   "execution_count": null,
   "metadata": {},
   "outputs": [],
   "source": [
    "def touch(path):\n",
    "    with open(path, 'w+'):\n",
    "        os.utime(path, None)\n",
    "working_time = open(OUTPUT+\"working_times.csv\",\"w+\")\n",
    "working_time.write(\"workers,best_model_time\\r\\n\")\n",
    "working_time.close()\n",
    "grid_log = open(OUTPUT+\"grid.csv\",\"w+\")\n",
    "grid_log.write(\"learning_rate,lambda_red,train_error,test_error\\r\\n\")\n",
    "grid_log.close()\n",
    "global b  \n",
    "b = 0\n",
    "col_sums=[]\n",
    "averages=[]\n",
    "sigmas=[]\n",
    "w=[]\n",
    "grid=[]"
   ]
  },
  {
   "cell_type": "markdown",
   "metadata": {},
   "source": [
    "### Workers and grid"
   ]
  },
  {
   "cell_type": "markdown",
   "metadata": {},
   "source": [
    "The running of the following block of code is optional: it is used to find the best parameters with all the possible workers and k-fold crossvalidation"
   ]
  },
  {
   "cell_type": "code",
   "execution_count": null,
   "metadata": {},
   "outputs": [],
   "source": [
    "for i in range(4,7):\n",
    "        for j in range(1,13,6):\n",
    "            grid+=[(i*0.09,j*0.028)]\n",
    "\n",
    "grid_results = []\n",
    "print(\"Starting grid with the following parameters: \"+ str(grid))\n",
    "for par in grid:\n",
    "    print(\"|---- Starting training for parameters (learning_rate,lambda_reg) = \"+str(par)+\" ----|\")\n",
    "    result=par, train(DATASET,ITERATIONS,par[0],par[1], True)\n",
    "    grid_results.append(result)\n",
    "    grid_log = open(OUTPUT+\"grid.csv\",\"a+\")\n",
    "    grid_log.write(str(result[0][0])+\",\"+str(result[0][1])+\",\"+str(result[1][0])+\",\"+str(result[1][1])+\"\\r\\n\")\n",
    "    grid_log.close()\n",
    "\n",
    "best_par = sorted(grid_results, key=lambda x: x[1][1])[0][0]"
   ]
  },
  {
   "cell_type": "markdown",
   "metadata": {},
   "source": [
    "If we want to impose a set of hyperparameters to train the learning algorithm on the whole dataset we can uncomment the following line:"
   ]
  },
  {
   "cell_type": "code",
   "execution_count": null,
   "metadata": {},
   "outputs": [],
   "source": [
    "#best_par=(0.36, 0.196)"
   ]
  },
  {
   "cell_type": "markdown",
   "metadata": {},
   "source": [
    "Now we train the algorithm with the full train set and we keep track of the execution time of each number of worker"
   ]
  },
  {
   "cell_type": "markdown",
   "metadata": {},
   "source": [
    "The model that should be finally delivered is the one that trained on the whole dataset. The weights can be easly exported and loaded on a txt file"
   ]
  },
  {
   "cell_type": "code",
   "execution_count": null,
   "metadata": {},
   "outputs": [],
   "source": [
    "workers = range(1,9)\n",
    "for worker in workers:\n",
    "    sc = pyspark.SparkContext.getOrCreate()\n",
    "    \n",
    "    print(\"\\n**** Execution with \"+str(worker)+\" worker has started ****\")\n",
    "    working_time = open(OUTPUT+\"working_times.csv\",\"a+\")\n",
    "    \n",
    "    sc.stop()\n",
    "    sc = pyspark.SparkContext(master='local['+str(worker)+']')\n",
    "    \n",
    "    print(\"\\n--------------------------------------------------\")\n",
    "    print(\"Best parameters: \" + str(best_par))\n",
    "    workers_executioTime_bestTraining= time.time()\n",
    "    smallest_error = train(DATASET,ITERATIONS,best_par[0],best_par[1])\n",
    "    workers_executioTime_bestTraining=time.time()-workers_executioTime_bestTraining\n",
    "    print(\"Best performance: \" + str(smallest_error))\n",
    "    print(\"--------------------------------------------------\")\n",
    "    \n",
    "\n",
    "    working_time.write(str(worker)+\",\"+str(workers_executioTime_bestTraining)+\"\\r\\n\")\n",
    "    working_time.close()\n",
    "    print(\"++++ Execution with \"+str(worker)+\" workers has terminated with running time: \"+str(workers_executioTime_bestTraining)+\" ++++\\n\")   "
   ]
  }
 ],
 "metadata": {
  "kernelspec": {
   "display_name": "Python 3",
   "language": "python",
   "name": "python3"
  },
  "language_info": {
   "codemirror_mode": {
    "name": "ipython",
    "version": 3
   },
   "file_extension": ".py",
   "mimetype": "text/x-python",
   "name": "python",
   "nbconvert_exporter": "python",
   "pygments_lexer": "ipython3",
   "version": "3.6.6"
  }
 },
 "nbformat": 4,
 "nbformat_minor": 2
}
