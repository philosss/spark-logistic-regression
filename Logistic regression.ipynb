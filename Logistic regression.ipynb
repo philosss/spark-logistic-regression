{
 "cells": [
  {
   "cell_type": "code",
   "execution_count": 38,
   "metadata": {},
   "outputs": [
    {
     "name": "stdout",
     "output_type": "stream",
     "text": [
      "Split train/test done. Train contains 3718 elements, Test contains 883 elements\n"
     ]
    }
   ],
   "source": [
    "import math\n",
    "import random\n",
    "\n",
    "sc = SparkContext.getOrCreate()\n",
    "\n",
    "TRAIN_TEST = 0.8\n",
    "\n",
    "global n_columns\n",
    "global w\n",
    "global b\n",
    "global n_row\n",
    "\n",
    "n_columns=56 #total number of columns (58) - the one deleted (57) - label (56)\n",
    "col_sums=[]\n",
    "averages=[]\n",
    "sigmas=[]\n",
    "w=[]\n",
    "b=[]\n",
    "\n",
    "def initializeAccumulators():\n",
    "    i=0\n",
    "    while(i<n_columns):\n",
    "        averages.append(sc.accumulator(0))\n",
    "        col_sums.append(sc.accumulator(0))\n",
    "        sigmas.append(sc.accumulator(0)) \n",
    "        i+=1\n",
    "\n",
    "def addToAccumulators(row):\n",
    "    if(len(row)!=len(col_sums)):\n",
    "        raise Exception(\"Number of columns in the row doesn't mach the number of accumulators initiated. Len row: \"+str(len(row))+\" n_accomulators\"+str(len(col_sums)))\n",
    "    i=0\n",
    "    while(i<n_columns):\n",
    "        print(\"Len row: \"+str(len(row))+\" n_accomulators\"+str(len(col_sums)))\n",
    "        col_sums[i].add(row[i])\n",
    "        i+=1\n",
    "        \n",
    "def preprocessing(row):\n",
    "    #splitting\n",
    "    split=row.split(\" \")\n",
    "    label = int(split[57])\n",
    "    del split[57] #label\n",
    "    del split[56] #col 57th\n",
    "    split=[float(col) for col in split]\n",
    "    addToAccumulators(split)\n",
    "    #assign random key to the datapoint\n",
    "    key=random.getrandbits(64)\n",
    "    #assign train/test \n",
    "    if(random.random()<TRAIN_TEST):\n",
    "        train=1\n",
    "    else:\n",
    "        train=0    \n",
    "    #return\n",
    "    return (key,train,split,label)\n",
    "def calcAvg(n_row):\n",
    "    i=0\n",
    "    while(i<n_columns):\n",
    "        averages[i]=col_sums[i].value/n_row\n",
    "        i+=1\n",
    "def calcResiduals(row):\n",
    "    i=0\n",
    "    while(i<n_columns):       \n",
    "        sigmas[i].add(math.pow(row[2][i]-averages[i],2))\n",
    "        i+=1\n",
    "    return row\n",
    "def calcSigmas(n_row):\n",
    "    i=0\n",
    "    while(i<n_columns):\n",
    "        sigmas[i]=math.sqrt(sigmas[i].value/float(n_row-1))\n",
    "        i+=1\n",
    "def normalize(row):\n",
    "    i=0\n",
    "    while(i<n_columns):\n",
    "        row[2][i]=(row[2][i]-averages[i])/sigmas[i]\n",
    "        i+=1\n",
    "    return row\n",
    "def initializeWeights(random_init=False):\n",
    "    if(random_init):\n",
    "        return [random.random() for i in range(0,n_columns)]\n",
    "    else:\n",
    "        return [0 for i in range(0,n_columns)]\n",
    "\n",
    "def initializeBias():\n",
    "    return [0 for i in range(0,n_columns)]\n",
    "\n",
    "def predict(w,b,X):\n",
    "    return w*X+b\n",
    "\n",
    "def train(filename, iterations, learning_rate, lambda_reg):\n",
    "    initializeAccumulators()\n",
    "    dataset=sc.textFile(filename).map(preprocessing).sortBy(lambda x: x[0])\n",
    "    n_row=dataset.count()\n",
    "#    print(dataset.first())\n",
    "    calcAvg(n_row)\n",
    "    dataset.map(calcResiduals).collect()\n",
    "    calcSigmas(n_row)\n",
    "    dataset=dataset.map(normalize)\n",
    "#    print(dataset.first())\n",
    "    train=dataset.filter(lambda x: x[1]==1)\n",
    "    train_x=train.map(lambda x: x[2])\n",
    "    train_y=train.map(lambda x: x[3])\n",
    "    test=dataset.filter(lambda x: x[1]==0)\n",
    "    test_x=test.map(lambda x: x[2])\n",
    "    test_y=test.map(lambda x: x[3])\n",
    "    print(\"Split train/test done. Train contains \"+str(train.count())+\" elements, Test contains \"+str(test.count())+\" elements\")\n",
    "#    w=initializeWeights()\n",
    "#    b=initializeBias()\n",
    "#    print(predict(w,b,train_x.first()))\n",
    "train(\"dataset/spam.data\",\"a\",\"a\",\"a\")"
   ]
  },
  {
   "cell_type": "code",
   "execution_count": 25,
   "metadata": {},
   "outputs": [],
   "source": []
  },
  {
   "cell_type": "code",
   "execution_count": null,
   "metadata": {},
   "outputs": [],
   "source": []
  },
  {
   "cell_type": "code",
   "execution_count": null,
   "metadata": {},
   "outputs": [],
   "source": [
    "def gradDescent(w,b,y_pred,y_train):"
   ]
  },
  {
   "cell_type": "code",
   "execution_count": null,
   "metadata": {},
   "outputs": [],
   "source": []
  },
  {
   "cell_type": "code",
   "execution_count": null,
   "metadata": {},
   "outputs": [],
   "source": []
  },
  {
   "cell_type": "code",
   "execution_count": null,
   "metadata": {},
   "outputs": [],
   "source": []
  },
  {
   "cell_type": "code",
   "execution_count": null,
   "metadata": {},
   "outputs": [],
   "source": []
  },
  {
   "cell_type": "code",
   "execution_count": null,
   "metadata": {},
   "outputs": [],
   "source": []
  },
  {
   "cell_type": "code",
   "execution_count": null,
   "metadata": {},
   "outputs": [],
   "source": [
    "\n",
    "\n",
    "X=preprocessing.normalize(dataset.drop(\"f57\", axis=1), norm='l2')\n",
    "y=dataset[\"f57\"]\n",
    "X_train, X_test, y_train, y_test = train_test_split(X, y, test_size=0.2, random_state=42)"
   ]
  },
  {
   "cell_type": "code",
   "execution_count": null,
   "metadata": {},
   "outputs": [],
   "source": []
  },
  {
   "cell_type": "code",
   "execution_count": null,
   "metadata": {},
   "outputs": [],
   "source": []
  }
 ],
 "metadata": {
  "kernelspec": {
   "display_name": "Python 3",
   "language": "python",
   "name": "python3"
  }
 },
 "nbformat": 4,
 "nbformat_minor": 2
}
