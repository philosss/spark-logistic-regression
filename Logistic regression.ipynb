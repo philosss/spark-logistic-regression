{
 "cells": [
  {
   "cell_type": "markdown",
   "metadata": {},
   "source": [
    "# Logistic regression"
   ]
  },
  {
   "cell_type": "markdown",
   "metadata": {},
   "source": [
    "Filippo Calzavara\n",
    "\n",
    "Nicolae Righeriu"
   ]
  },
  {
   "cell_type": "markdown",
   "metadata": {},
   "source": [
    "## Imports"
   ]
  },
  {
   "cell_type": "code",
   "execution_count": 1,
   "metadata": {},
   "outputs": [
    {
     "data": {
      "text/html": [
       "<style>.container { width:100% !important; }</style>"
      ],
      "text/plain": [
       "<IPython.core.display.HTML object>"
      ]
     },
     "metadata": {},
     "output_type": "display_data"
    }
   ],
   "source": [
    "import math\n",
    "import random\n",
    "import pyspark\n",
    "from itertools import chain\n",
    "import datetime\n",
    "import os\n",
    "import time\n",
    "from IPython.core.display import display, HTML\n",
    "display(HTML(\"<style>.container { width:100% !important; }</style>\"))\n",
    "\n",
    "global k_fold\n",
    "global n_row\n",
    "global y_h_m_y\n",
    "global n_columns\n",
    "global w\n",
    "global OUTPUT\n",
    "global ITERATIONS\n",
    "global THRESHOLD\n",
    "global averages\n",
    "global col_sums\n",
    "global sigmas\n",
    "global b\n",
    "\n",
    "DEBUG = True\n",
    "TRAIN_TEST = 0.8\n",
    "k_fold=3\n",
    "ITERATIONS=50\n",
    "THRESHOLD = 0.5\n",
    "\n",
    "DATASET=\"dataset/spam.data\"\n",
    "n_columns=56 #total number of columns (58) - the one deleted (57) - label (56)\n",
    "\n",
    "OUTPUT=\"out/\""
   ]
  },
  {
   "cell_type": "markdown",
   "metadata": {},
   "source": [
    "## Initialization"
   ]
  },
  {
   "cell_type": "code",
   "execution_count": 2,
   "metadata": {},
   "outputs": [],
   "source": [
    "def initializeAccumulators():\n",
    "    global averages\n",
    "    global col_sums\n",
    "    global sigmas\n",
    "    i=0\n",
    "    averages=[]\n",
    "    col_sums=[]\n",
    "    sigmas=[]\n",
    "    while(i<n_columns):\n",
    "        averages.append(sc.accumulator(0))\n",
    "        col_sums.append(sc.accumulator(0))\n",
    "        sigmas.append(sc.accumulator(0)) \n",
    "        i+=1\n",
    "\n",
    "def initializeWeights(random_init=False):\n",
    "    if(random_init):\n",
    "        #return sc.parallelize([(i, random.random()) for i in range(0,n_columns)])\n",
    "        return [random.random() for i in range(0,n_columns)]\n",
    "    else:\n",
    "        #return sc.parallelize([(i, 0.0) for i in range(0,n_columns)])\n",
    "        return [0.0 for i in range(0,n_columns)]\n",
    "\n",
    "def initializeBias():\n",
    "    return sc.parallelize(0.0)\n"
   ]
  },
  {
   "cell_type": "markdown",
   "metadata": {},
   "source": [
    "## Preprocessing"
   ]
  },
  {
   "cell_type": "markdown",
   "metadata": {},
   "source": [
    "### Metrics calculation for normalization"
   ]
  },
  {
   "cell_type": "code",
   "execution_count": 3,
   "metadata": {},
   "outputs": [],
   "source": [
    "def addToAccumulators(row):\n",
    "    if(len(row)!=len(col_sums)):\n",
    "        raise Exception(\"Number of columns in the row doesn't mach the number of accumulators initiated. Len row: \"+str(len(row))+\" n_accomulators: \"+str(len(col_sums)))\n",
    "    i=0\n",
    "    while(i<n_columns):\n",
    "        col_sums[i].add(row[i])\n",
    "        i+=1\n",
    "\n",
    "def calcAvg(n_row):\n",
    "    global averages\n",
    "    i=0\n",
    "    while(i<n_columns):\n",
    "        averages[i]=col_sums[i].value/n_row\n",
    "        i+=1\n",
    "\n",
    "def calcResiduals(row):\n",
    "    global sigmas\n",
    "    i=0\n",
    "    while(i<n_columns):       \n",
    "        sigmas[i].add(math.pow(row[2][i]-averages[i],2))\n",
    "        i+=1\n",
    "    return row\n",
    "\n",
    "def calcSigmas(n_row):\n",
    "    global sigmas\n",
    "    i=0\n",
    "    while(i<n_columns):\n",
    "        sigmas[i]=math.sqrt(sigmas[i].value/float(n_row-1))\n",
    "        i+=1"
   ]
  },
  {
   "cell_type": "code",
   "execution_count": 4,
   "metadata": {},
   "outputs": [],
   "source": [
    "def normalize(row):\n",
    "    i=0\n",
    "    while(i<n_columns):\n",
    "        row[2][i]=(row[2][i]-averages[i])/sigmas[i]\n",
    "        i+=1\n",
    "    return row"
   ]
  },
  {
   "cell_type": "markdown",
   "metadata": {},
   "source": [
    "### Preprocessing"
   ]
  },
  {
   "cell_type": "code",
   "execution_count": null,
   "metadata": {},
   "outputs": [],
   "source": [
    "def preprocessing(row):\n",
    "    split=row.split(\" \")       #splitting\n",
    "    label = int(split[57])\n",
    "    del split[57] #label\n",
    "    del split[56] #col 57th\n",
    "    split=[float(col) for col in split]\n",
    "    addToAccumulators(split)\n",
    "    #assign random key to the datapoint\n",
    "    key=random.getrandbits(64)\n",
    "    #assign train/test \n",
    "    if(random.random()<TRAIN_TEST):\n",
    "        train=1\n",
    "    else:\n",
    "        train=0    \n",
    "    return (key,train,split,label)"
   ]
  },
  {
   "cell_type": "markdown",
   "metadata": {},
   "source": [
    "### Split"
   ]
  },
  {
   "cell_type": "code",
   "execution_count": null,
   "metadata": {},
   "outputs": [],
   "source": [
    "def trainTestSplit(dataset):\n",
    "    dataset=dataset.map(normalize)\n",
    "    train=dataset.filter(lambda x: x[1]==1)\n",
    "    test=dataset.filter(lambda x: x[1]==0)\n",
    "    return train, test"
   ]
  },
  {
   "cell_type": "markdown",
   "metadata": {},
   "source": [
    "## Prediction functions and cost"
   ]
  },
  {
   "cell_type": "code",
   "execution_count": null,
   "metadata": {},
   "outputs": [],
   "source": [
    "def sigmoid(z):\n",
    "    return 1/(1+math.exp(-z))\n",
    "\n",
    "def predict(w,b,X):\n",
    "    sig=sigmoid(sum([X[i]*w[i] for i in range(len(w))])+b)\n",
    "    return sig\n",
    "\n",
    "def classify_prediction(pred_probability):\n",
    "    if (pred_probability >= THRESHOLD):\n",
    "        return 1\n",
    "    return 0\n",
    "\n",
    "def predict_parallel(w,b,X):\n",
    "    #Change X representation\n",
    "    X = sc.parallelize(X).zipWithIndex().map(lambda x: (x[1],x[0]))\n",
    "    wX_plus_b=X.join(w).map(lambda x: (x[1][0]*x[1][1])+b).sum()\n",
    "    return sigmoid(wX_plus_b)\n",
    "\n",
    "def compute_cost(dataset,w,b,lambda_reg, print_stats=False):\n",
    "    cost=0\n",
    "    #print(\"predict(w,b,x[2]))=\"+str(predict(w,b,dataset.collect()[0][2])))\n",
    "    #print(\"math.log(predict(w,b,x[2]))=\"+str(math.log(predict(w,b,dataset.collect()[0][2]))))\n",
    "    cost = (-1/dataset.count())*dataset.map(lambda x: x[3]*math.log(predict(w,b,x[2]))+(1-x[3])*math.log(1-predict(w,b,x[2]))).sum()+lambda_reg/(2*dataset.count())*sum([i*i for i in w])\n",
    "    \n",
    "    '''\n",
    "    print(\"RowNumber: \"+str(dataset.count()))\n",
    "    print(\"\\nlambda_reg: \"+str(lambda_reg))\n",
    "    print(\"\\nb: \"+str(b))\n",
    "    print(\"\\nw: \"+str(w))\n",
    "    print(\"\\nDataset: \"+str(w))\n",
    "    '''\n",
    "    if (print_stats):\n",
    "        stats = {\"TP\":0, \"TN\":0, \"FP\":0, \"FN\":0}\n",
    "        statsMapping = dataset.map(lambda x: 2*(classify_prediction(predict(w, b, x[2])) - x[3]) + x[3])  #this function maps all 4 possible variations to an integer, from -1 to 3\n",
    "        stats[\"TP\"] = statsMapping.filter(lambda x: x == 1).count()\n",
    "        stats[\"TN\"] = statsMapping.filter(lambda x: x == 2).count()\n",
    "        stats[\"FP\"] = statsMapping.filter(lambda x: x == -1).count()\n",
    "        stats[\"FN\"] = statsMapping.filter(lambda x: x == 0).count()\n",
    "        precision = stats[\"TP\"]/(stats[\"TP\"] + stats[\"FP\"])\n",
    "        recall = stats[\"TP\"]/(stats[\"TP\"] + stats[\"FN\"])\n",
    "        accuracy = (stats[\"TP\"] + stats[\"TN\"])/(stats[\"TP\"] + stats[\"TN\"] + stats[\"FP\"] + stats[\"FN\"])\n",
    "        print(\"Precision: \" + str(precision))\n",
    "        print(\"Recall: \" + str(recall))\n",
    "        print(\"F1 score: \" + str(2*(precision*recall)/(precision + recall)))\n",
    "        print(\"Accuracy: \" + str(accuracy))\n",
    "    return cost\n",
    "\n",
    "def testParameters(test, w, b):\n",
    "    test_error = test.map(lambda x: ())"
   ]
  },
  {
   "cell_type": "markdown",
   "metadata": {},
   "source": [
    "## Gradient Descent"
   ]
  },
  {
   "cell_type": "code",
   "execution_count": null,
   "metadata": {},
   "outputs": [],
   "source": [
    "def gradientDescent(iterations,train,w,number_samples,lambda_reg,learning_rate,b,logCosts=False):\n",
    "    if(logCosts):\n",
    "        gd_cost_log = open(OUTPUT+\"gradient_descent.csv\",\"w+\")\n",
    "        gd_cost_log.write(\"iteration,cost\\r\\n\")\n",
    "        gd_cost_log.close()\n",
    "    costs=[]\n",
    "    for iteration in range(iterations):\n",
    "        w,b = gradientDescentIteration(train,w,number_samples,lambda_reg,learning_rate,b)        \n",
    "        cost=compute_cost(train,w,b,lambda_reg)\n",
    "        costs.append(cost)\n",
    "        if(logCosts):\n",
    "            gd_cost_log = open(OUTPUT+\"gradient_descent.csv\",\"a+\")            \n",
    "            gd_cost_log.write(str(iteration+1)+\",\"+str(cost)+\"\\r\\n\")\n",
    "            gd_cost_log.close()\n",
    "        print(\"-> Iteration done: \"+str(iteration+1)+\" of \"+str(iterations)+\". Cost: \"+str(cost))\n",
    "    return w,b,costs\n",
    "    \n",
    "def gradientDescentIteration(train,w,number_samples,lambda_reg,learning_rate,b):\n",
    "    dw=[0 for i in range(0,n_columns)]\n",
    "    j = 0\n",
    "    w_temp = w.copy()\n",
    "    for j in range(n_columns):\n",
    "        X_j=train.map(lambda x: (predict(w,b,x[2])-x[3])*x[2][j]).sum()\n",
    "        dw[j]=(1/number_samples)*X_j+(lambda_reg/number_samples)+w[j]\n",
    "        w_temp[j]-=learning_rate*dw[j]\n",
    "    b-=learning_rate*(1/number_samples)*train.map(lambda x: predict(w,b,x[2])-x[3]).sum()\n",
    "    w = w_temp\n",
    "    return w_temp,b"
   ]
  },
  {
   "cell_type": "markdown",
   "metadata": {},
   "source": [
    "## K-Fold Cross Validation"
   ]
  },
  {
   "cell_type": "code",
   "execution_count": null,
   "metadata": {},
   "outputs": [],
   "source": [
    "def make_folds(x):\n",
    "    return (x[0],int(random.random()*10-1),x[1],x[2])\n",
    "\n",
    "def kFoldsCV(k_fold,iterations,train,lambda_reg,learning_rate):\n",
    "    fold_length=train.count()/k_fold\n",
    "    train_errors_fold=[]\n",
    "    test_errors_fold = []\n",
    "    for i_fold in range(k_fold):\n",
    "        w=initializeWeights()\n",
    "        b=0\n",
    "        starting_fold=fold_length*i_fold\n",
    "        end_fold=starting_fold+fold_length\n",
    "        test_fold=train.zipWithIndex().filter(lambda t: (t[1]>=starting_fold and t[1]<end_fold)).map(lambda t: t[0]) #the map get rid of the index again\n",
    "        train_fold=train.zipWithIndex().filter(lambda t: t[1]<starting_fold or t[1]>=end_fold).map(lambda t: t[0])\n",
    "        train_fold_size=train_fold.count()\n",
    "        \n",
    "        #Gradient descent\n",
    "        w, b, train_errors = gradientDescent(iterations,train_fold,w,train_fold_size,lambda_reg,learning_rate,b)\n",
    "        train_errors_fold.append(train_errors)\n",
    "        train_errors_flattened =list(chain.from_iterable(train_errors_fold))\n",
    "        test_error = compute_cost(test_fold, w, b, lambda_reg)\n",
    "        test_errors_fold.append(test_error)\n",
    "        if(DEBUG):\n",
    "            print(\"--> Fold #\"+str(i_fold+1)+\" of \"+str(k_fold)+\" is done. Train error: \" \\\n",
    "                  +str(sum(train_errors_flattened)/((i_fold + 1) * iterations)) \\\n",
    "                  + \" Test error: \" + str(sum(test_errors_fold)/(i_fold+ 1)))\n",
    "    return w,b,train_errors_fold, test_errors_fold"
   ]
  },
  {
   "cell_type": "markdown",
   "metadata": {},
   "source": [
    "## Train"
   ]
  },
  {
   "cell_type": "code",
   "execution_count": null,
   "metadata": {},
   "outputs": [],
   "source": [
    "def train(filename, iterations, learning_rate, lambda_reg, cv=False):\n",
    "    global w\n",
    "    global b\n",
    "    w = []\n",
    "    initializeAccumulators()\n",
    "    w = initializeWeights()\n",
    "    dataset=sc.textFile(filename).map(preprocessing)\n",
    "    n_row=dataset.count()\n",
    "    calcAvg(n_row)\n",
    "    gg = dataset.map(calcResiduals).collect()\n",
    "    dataset=dataset.collect()\n",
    "    calcSigmas(n_row)\n",
    "    dataset=sc.parallelize(dataset).sortBy(lambda x: x[0])\n",
    "    n_row=dataset.count()\n",
    "    train, test = trainTestSplit(dataset)\n",
    "    \n",
    "    print(\"Split train/test done. Train contains \"+str(train.count())+\" elements, Test contains \"+str(test.count())+\" elements\")\n",
    "    \n",
    "    if (cv):\n",
    "        w, b, train_errors_fold, test_errors_fold = kFoldsCV(k_fold,iterations,train,lambda_reg,learning_rate)\n",
    "        train_errors_fold =list(chain.from_iterable(train_errors_fold))\n",
    "        average_train_error = sum(train_errors_fold)/(iterations*k_fold)\n",
    "        average_test_error = sum(test_errors_fold)/k_fold\n",
    "        print(\"---> \"+str(k_fold)+\"-fold validation done.  Train error: \" \\\n",
    "            +str(average_train_error) \\\n",
    "            + \" Test error: \" + str((average_test_error)))\n",
    "        return average_train_error, average_test_error\n",
    "    else:                                                  #Testing the parameters and weights on the actual test set\n",
    "        w,b, train_errors = gradientDescent(iterations, train, w, train.count(), lambda_reg, learning_rate, b,True)\n",
    "        wBest = open(OUTPUT+\"w_bestModel.csv\",\"w+\")\n",
    "        wBest.write(str(w))\n",
    "        wBest.close()\n",
    "        average_train_error = sum(train_errors)/iterations\n",
    "        average_test_error = compute_cost(test, w, b, lambda_reg, True)\n",
    "        print(\"---> Model done. Train error: \" \\\n",
    "              +str(average_train_error) \\\n",
    "              + \" Test error: \" + str((average_test_error)))\n",
    "        return average_train_error, average_test_error"
   ]
  },
  {
   "cell_type": "markdown",
   "metadata": {},
   "source": [
    "## Main"
   ]
  },
  {
   "cell_type": "markdown",
   "metadata": {},
   "source": [
    "### Logging"
   ]
  },
  {
   "cell_type": "code",
   "execution_count": null,
   "metadata": {},
   "outputs": [],
   "source": [
    "def touch(path):\n",
    "    with open(path, 'w+'):\n",
    "        os.utime(path, None)\n",
    "workers = range(1,9) #8 cores\n",
    "working_time = open(OUTPUT+\"working_times.csv\",\"w+\")\n",
    "#working_time.write(\"workers,grid_time,best_model_time,total\\r\\n\")\n",
    "working_time.write(\"workers,grid_time,total\\r\\n\")\n",
    "working_time.close()\n",
    "grid_log = open(OUTPUT+\"grid.csv\",\"w+\")\n",
    "grid_log.write(\"learning_rate,lambda_red,train_error,test_error\\r\\n\")\n",
    "grid_log.close()"
   ]
  },
  {
   "cell_type": "markdown",
   "metadata": {},
   "source": [
    "### Workers and grid"
   ]
  },
  {
   "cell_type": "code",
   "execution_count": null,
   "metadata": {},
   "outputs": [
    {
     "name": "stdout",
     "output_type": "stream",
     "text": [
      "****Worker: 1****\n",
      "\n",
      "\n",
      "--------------------------------------------------\n",
      "Best parameters: (0.2, 0.05)\n",
      "Split train/test done. Train contains 3636 elements, Test contains 965 elements\n",
      "-> Iteration done: 1 of 50. Cost: 0.6139579036819058\n",
      "-> Iteration done: 2 of 50. Cost: 0.5725468093431973\n",
      "-> Iteration done: 3 of 50. Cost: 0.5479742078763638\n",
      "-> Iteration done: 4 of 50. Cost: 0.5323568066258672\n",
      "-> Iteration done: 5 of 50. Cost: 0.5219600413297797\n",
      "-> Iteration done: 6 of 50. Cost: 0.514791831486005\n",
      "-> Iteration done: 7 of 50. Cost: 0.5097035069217286\n",
      "-> Iteration done: 8 of 50. Cost: 0.505995773941176\n",
      "-> Iteration done: 9 of 50. Cost: 0.5032261700821264\n",
      "-> Iteration done: 10 of 50. Cost: 0.5011067966737472\n",
      "-> Iteration done: 11 of 50. Cost: 0.49944635887442007\n",
      "-> Iteration done: 12 of 50. Cost: 0.4981156354293895\n",
      "-> Iteration done: 13 of 50. Cost: 0.4970261161419953\n",
      "-> Iteration done: 14 of 50. Cost: 0.49611640878549296\n",
      "-> Iteration done: 15 of 50. Cost: 0.49534340720992\n",
      "-> Iteration done: 16 of 50. Cost: 0.49467646248629943\n",
      "-> Iteration done: 17 of 50. Cost: 0.4940934896343538\n",
      "-> Iteration done: 18 of 50. Cost: 0.49357834235126036\n",
      "-> Iteration done: 19 of 50. Cost: 0.4931190287017505\n",
      "-> Iteration done: 20 of 50. Cost: 0.4927064898988788\n",
      "-> Iteration done: 21 of 50. Cost: 0.492333759015176\n",
      "-> Iteration done: 22 of 50. Cost: 0.4919953776885864\n",
      "-> Iteration done: 23 of 50. Cost: 0.49168698901072044\n",
      "-> Iteration done: 24 of 50. Cost: 0.4914050513560815\n",
      "-> Iteration done: 25 of 50. Cost: 0.4911466356515884\n",
      "-> Iteration done: 26 of 50. Cost: 0.49090928050793664\n",
      "-> Iteration done: 27 of 50. Cost: 0.49069088768974667\n"
     ]
    }
   ],
   "source": [
    "for worker in workers:\n",
    "    global b\n",
    "    working_time = open(OUTPUT+\"working_times.csv\",\"a+\")\n",
    "    print(\"****Worker: \"+str(worker)+\"****\\n\")\n",
    "    sc = pyspark.SparkContext.getOrCreate()\n",
    "    sc.stop()\n",
    "    conf = (SparkConf().set(\"spark.cores.max\", str(worker)))\n",
    "    sc = SparkContext(conf=conf)\n",
    "    b = 0\n",
    "    col_sums=[]\n",
    "    averages=[]\n",
    "    sigmas=[]\n",
    "    \n",
    "    w=[]\n",
    "    if (False):\n",
    "        grid=[]\n",
    "        for i in range(1,5):\n",
    "                for j in range(1,14,3):\n",
    "                    grid+=[(i*0.09,j*0.028)]\n",
    "    \n",
    "        #grid=[(0.01,)] #(learning_rate,lambda_reg)\n",
    "        #grid=list(chain.from_iterable(grid))\n",
    "        grid_results = []\n",
    "        #workers_executioTime_grid=time.time()\n",
    "        for par in grid:\n",
    "            print(\"|---- Starting training for parameters (learning_rate,lambda_reg) = \"+str(par)+\" ----|\")\n",
    "            result=(par, train(DATASET,ITERATIONS,par[0],par[1], True))\n",
    "            grid_results.append(result)\n",
    "            grid_log = open(OUTPUT+\"grid.csv\",\"a+\")\n",
    "            grid_log.write(str(result[0][0])+\",\"+str(result[0][1])+\",\"+str(result[1][0])+\",\"+str(result[1][1])+\"\\r\\n\")\n",
    "            grid_log.close()\n",
    "        #workers_executioTime_grid=time.time()-workers_executioTime_grid\n",
    "        \n",
    "        best_par = sorted(grid_results, key=lambda x: x[1])[0]\n",
    "    workers_executioTime_bestTraining= time.time()\n",
    "    best_par = (0.2, 0.05)\n",
    "    print(\"\\n--------------------------------------------------\")\n",
    "    print(\"Best parameters: \" + str(best_par))\n",
    "    smallest_error = train(DATASET,ITERATIONS,best_par[0],best_par[1])\n",
    "    print(\"Best performance: \" + str(smallest_error))\n",
    "    print(\"--------------------------------------------------\")\n",
    "    #print(w)\n",
    "    workers_executioTime_bestTraining=time.time()-workers_executioTime_bestTraining\n",
    "    #working_time.write(str(worker)+\",\"+str(workers_executioTime_grid)+\",\"+str(workers_executioTime_bestTraining)+\",\"+str(workers_executioTime_grid+workers_executioTime_bestTraining)+\"\\r\\n\")\n",
    "    working_time.write(str(worker)+\",\"+str(workers_executioTime_bestTraining)+\"\\r\\n\")\n",
    "    working_time.close()\n",
    "    #print(\"++++Worker \"+str(worker)+\" has terminated with running time: \"+str(workers_executioTime_grid+workers_executioTime_bestTraining)+\"++++\\n\")\n",
    "    print(\"++++Worker \"+str(worker)+\" has terminated with running time: \"+str(workers_executioTime_bestTraining)+\"++++\\n\")\n",
    "\n",
    "    "
   ]
  },
  {
   "cell_type": "code",
   "execution_count": null,
   "metadata": {},
   "outputs": [],
   "source": []
  }
 ],
 "metadata": {
  "kernelspec": {
   "display_name": "Python 3",
   "language": "python",
   "name": "python3"
  },
  "language_info": {
   "codemirror_mode": {
    "name": "ipython",
    "version": 3
   },
   "file_extension": ".py",
   "mimetype": "text/x-python",
   "name": "python",
   "nbconvert_exporter": "python",
   "pygments_lexer": "ipython3",
   "version": "3.6.6"
  }
 },
 "nbformat": 4,
 "nbformat_minor": 2
}
